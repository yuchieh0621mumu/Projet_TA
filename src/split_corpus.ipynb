{
 "cells": [
  {
   "cell_type": "code",
   "execution_count": 2,
   "id": "8da6663d-0247-4085-8766-8a550c46cf44",
   "metadata": {},
   "outputs": [],
   "source": [
    "def split_corpus(input_file, output_file, start_line, num_lines):\n",
    "    with open(input_file, 'r', encoding='utf-8') as infile:\n",
    "        lines = infile.readlines()[start_line:start_line + num_lines]\n",
    "    with open(output_file, 'w', encoding='utf-8') as outfile:\n",
    "        outfile.writelines(lines)\n",
    "\n",
    "europarl_en_file = 'Europarl.en-fr.en'\n",
    "europarl_fr_file = 'Europarl.en-fr.fr'\n",
    "\n",
    "\n",
    "split_corpus(europarl_en_file, 'Europarl_train_100k.en', 0, 100000)\n",
    "split_corpus(europarl_fr_file, 'Europarl_train_100k.fr', 0, 100000)\n",
    "\n",
    "\n",
    "split_corpus(europarl_en_file, 'Europarl_dev_3750.en', 100000, 3750)\n",
    "split_corpus(europarl_fr_file, 'Europarl_dev_3750.fr', 100000, 3750)\n",
    "\n",
    "split_corpus(europarl_en_file, 'Europarl_test_500.en', 103750, 500)\n",
    "split_corpus(europarl_fr_file, 'Europarl_test_500.fr', 103750, 500)\n",
    "\n",
    "emea_en_file = 'EMEA.en-fr.en'\n",
    "emea_fr_file = 'EMEA.en-fr.fr'\n",
    "\n",
    "\n",
    "split_corpus(emea_en_file, 'Emea_train_10k.en', 0, 10000)\n",
    "split_corpus(emea_fr_file, 'Emea_train_10k.fr', 0, 10000)\n",
    "\n",
    "split_corpus(emea_en_file, 'Emea_test_500.en', 10000, 500)\n",
    "split_corpus(emea_fr_file, 'Emea_test_500.fr', 10000, 500)\n"
   ]
  },
  {
   "cell_type": "code",
   "execution_count": null,
   "id": "ab7e806c-3cfe-47c4-a574-4194ba5d2b67",
   "metadata": {},
   "outputs": [],
   "source": []
  }
 ],
 "metadata": {
  "kernelspec": {
   "display_name": "Python 3 (ipykernel)",
   "language": "python",
   "name": "python3"
  },
  "language_info": {
   "codemirror_mode": {
    "name": "ipython",
    "version": 3
   },
   "file_extension": ".py",
   "mimetype": "text/x-python",
   "name": "python",
   "nbconvert_exporter": "python",
   "pygments_lexer": "ipython3",
   "version": "3.8.19"
  }
 },
 "nbformat": 4,
 "nbformat_minor": 5
}
