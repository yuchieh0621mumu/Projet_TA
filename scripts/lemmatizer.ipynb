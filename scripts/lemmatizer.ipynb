{
 "cells": [
  {
   "cell_type": "code",
   "execution_count": 1,
   "id": "bf3c4cb9-faf1-46db-9493-be640e9b69b0",
   "metadata": {},
   "outputs": [
    {
     "name": "stdout",
     "output_type": "stream",
     "text": [
      "Collecting git+https://github.com/ClaudeCoulombe/FrenchLefffLemmatizer.git\n",
      "  Cloning https://github.com/ClaudeCoulombe/FrenchLefffLemmatizer.git to /tmp/pip-req-build-y4iw1qe1\n",
      "  Running command git clone --filter=blob:none --quiet https://github.com/ClaudeCoulombe/FrenchLefffLemmatizer.git /tmp/pip-req-build-y4iw1qe1\n",
      "  Resolved https://github.com/ClaudeCoulombe/FrenchLefffLemmatizer.git to commit bc0ebd0135a6cc78f48ddf184069b4c0b9c017d8\n",
      "  Preparing metadata (setup.py) ... \u001b[?25ldone\n",
      "\u001b[?25hBuilding wheels for collected packages: FrenchLefffLemmatizer\n",
      "  Building wheel for FrenchLefffLemmatizer (setup.py) ... \u001b[?25ldone\n",
      "\u001b[?25h  Created wheel for FrenchLefffLemmatizer: filename=FrenchLefffLemmatizer-0.3-py3-none-any.whl size=3533513 sha256=8c9c1e4cd74110bbcedb1f20b7c7520b28b5dcacd5b8b76856b72647e1184c9d\n",
      "  Stored in directory: /tmp/pip-ephem-wheel-cache-w4zn5si3/wheels/3d/42/b8/6efbf5caf73792056abe061c707895bf1ac1923b0bb49a38c1\n",
      "Successfully built FrenchLefffLemmatizer\n",
      "Installing collected packages: FrenchLefffLemmatizer\n",
      "Successfully installed FrenchLefffLemmatizer-0.3\n",
      "Note: you may need to restart the kernel to use updated packages.\n"
     ]
    }
   ],
   "source": [
    "pip install git+https://github.com/ClaudeCoulombe/FrenchLefffLemmatizer.git"
   ]
  },
  {
   "cell_type": "code",
   "execution_count": 2,
   "id": "6980401a-edac-4de1-baab-02deded6d0d1",
   "metadata": {},
   "outputs": [
    {
     "name": "stdout",
     "output_type": "stream",
     "text": [
      "Requirement already satisfied: FrenchLefffLemmatizer in /home/hp/anaconda3/envs/myenv/lib/python3.8/site-packages (0.3)\n",
      "Note: you may need to restart the kernel to use updated packages.\n"
     ]
    }
   ],
   "source": [
    "pip install FrenchLefffLemmatizer"
   ]
  },
  {
   "cell_type": "code",
   "execution_count": 5,
   "id": "c7f018bd-e9aa-49ed-95ba-96a2f441ddfe",
   "metadata": {},
   "outputs": [],
   "source": [
    "from french_lefff_lemmatizer.french_lefff_lemmatizer import FrenchLefffLemmatizer\n",
    "\n",
    "lemmatizer = FrenchLefffLemmatizer()\n",
    "\n",
    "def lemmatize_file_fr(input_file, output_file):\n",
    "    with open(input_file, 'r') as infile, open(output_file, 'w') as outfile:\n",
    "        for line in infile:\n",
    "            lemmatized_line = ' '.join([lemmatizer.lemmatize(word) for word in line.split()])\n",
    "            outfile.write(lemmatized_line + '\\n')\n",
    "\n",
    "lemmatize_file_fr('Europarl_train_100k.fr', 'Europarl_train_100k_lem.fr')\n",
    "lemmatize_file_fr('Europarl_test_500.fr', 'Europarl_test_500_lem.fr')\n",
    "lemmatize_file_fr('Europarl_dev_3750.fr', 'Europarl_dev_3750_lem.fr')\n",
    "lemmatize_file_fr('Emea_train_10k.fr', 'Emea_train_10k_lem.fr')\n",
    "lemmatize_file_fr('Emea_test_500.fr', 'Emea_test_500_lem.fr')"
   ]
  },
  {
   "cell_type": "code",
   "execution_count": null,
   "id": "97b6bf64-2b0d-4764-9ac3-cd97adee3cf7",
   "metadata": {},
   "outputs": [],
   "source": [
    "import nltk\n",
    "from nltk.stem import WordNetLemmatizer\n",
    "\n",
    "nltk.download('wordnet')\n",
    "lemmatizer = WordNetLemmatizer()\n",
    "\n",
    "def lemmatize_file(input_file, output_file):\n",
    "    with open(input_file, 'r') as infile, open(output_file, 'w') as outfile:\n",
    "        for line in infile:\n",
    "            lemmatized_line = ' '.join([lemmatizer.lemmatize(word) for word in line.split()])\n",
    "            outfile.write(lemmatized_line + '\\n')\n",
    "\n",
    "lemmatize_file('corpus/Europarl_train_100k.en', 'corpus/Europarl_train_100k_lem.en')\n",
    "lemmatize_file('corpus/Europarl_test_500.en', 'corpus/Europarl_test_500_lem.en')\n",
    "lemmatize_file('corpus/Europarl_dev_3750.en', 'corpus/Europarl_dev_3750_lem.en')\n",
    "lemmatize_file('corpus/Emea_train_10k.en', 'corpus/Emea_train_10k_lem.en')\n",
    "lemmatize_file('corpus/Emea_test_500.en', 'corpus/Emea_test_500_lem.en')"
   ]
  }
 ],
 "metadata": {
  "kernelspec": {
   "display_name": "Python 3 (ipykernel)",
   "language": "python",
   "name": "python3"
  },
  "language_info": {
   "codemirror_mode": {
    "name": "ipython",
    "version": 3
   },
   "file_extension": ".py",
   "mimetype": "text/x-python",
   "name": "python",
   "nbconvert_exporter": "python",
   "pygments_lexer": "ipython3",
   "version": "3.8.19"
  }
 },
 "nbformat": 4,
 "nbformat_minor": 5
}
